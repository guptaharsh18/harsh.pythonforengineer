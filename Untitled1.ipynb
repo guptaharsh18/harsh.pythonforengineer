{
  "nbformat": 4,
  "nbformat_minor": 0,
  "metadata": {
    "colab": {
      "provenance": []
    },
    "kernelspec": {
      "name": "python3",
      "display_name": "Python 3"
    },
    "language_info": {
      "name": "python"
    }
  },
  "cells": [
    {
      "cell_type": "code",
      "execution_count": 1,
      "metadata": {
        "colab": {
          "base_uri": "https://localhost:8080/"
        },
        "id": "r-yvU1hehrK5",
        "outputId": "df13d10d-b0a2-41fb-d87f-ba4d2ab03afb"
      },
      "outputs": [
        {
          "output_type": "stream",
          "name": "stdout",
          "text": [
            "Welcome to the Temperature Monitoring System!\n",
            "This system will monitor the temperature and provide alerts if it goes outside the safe range.\n",
            "\n",
            "Please enter the current temperature (in Celsius): 99\n",
            "Alert: Temperature is too high! It is above the upper safe limit of 30°C.\n",
            "\n",
            "Thank you for using the Temperature Monitoring System.\n",
            "Stay safe and keep monitoring your environment!\n"
          ]
        }
      ],
      "source": [
        "def display_welcome_message():\n",
        "    \"\"\"Display a welcome message to the user.\"\"\"\n",
        "    print(\"Welcome to the Temperature Monitoring System!\")\n",
        "    print(\"This system will monitor the temperature and provide alerts if it goes outside the safe range.\\n\")\n",
        "\n",
        "def get_temperature_input():\n",
        "    \"\"\"Get temperature input from the user and handle invalid input.\"\"\"\n",
        "    while True:\n",
        "        try:\n",
        "            current_temp = float(input(\"Please enter the current temperature (in Celsius): \"))\n",
        "            return current_temp\n",
        "        except ValueError:\n",
        "            print(\"Invalid input! Please enter a valid number for the temperature.\")\n",
        "\n",
        "def check_temperature_range(current_temp, lower_limit, upper_limit):\n",
        "    \"\"\"Check if the current temperature is within the safe range and provide alerts.\"\"\"\n",
        "    if current_temp < lower_limit:\n",
        "        return \"Alert: Temperature is too low! It is below the lower safe limit of {}°C.\".format(lower_limit)\n",
        "    elif current_temp > upper_limit:\n",
        "        return \"Alert: Temperature is too high! It is above the upper safe limit of {}°C.\".format(upper_limit)\n",
        "    else:\n",
        "        return \"Temperature is within the safe range. It is safe at {}°C.\".format(current_temp)\n",
        "\n",
        "def display_goodbye_message():\n",
        "    \"\"\"Display a goodbye message.\"\"\"\n",
        "    print(\"\\nThank you for using the Temperature Monitoring System.\")\n",
        "    print(\"Stay safe and keep monitoring your environment!\")\n",
        "\n",
        "def monitor_temperature():\n",
        "    \"\"\"Main function to monitor the temperature and provide alerts.\"\"\"\n",
        "    # Define the safe temperature range (upper and lower limits)\n",
        "    lower_limit = 10  # Minimum safe temperature (example: 10°C)\n",
        "    upper_limit = 30  # Maximum safe temperature (example: 30°C)\n",
        "\n",
        "    # Display a welcome message\n",
        "    display_welcome_message()\n",
        "\n",
        "    # Get the current temperature input from the user\n",
        "    current_temp = get_temperature_input()\n",
        "\n",
        "    # Check the current temperature against the defined limits and display the appropriate message\n",
        "    alert_message = check_temperature_range(current_temp, lower_limit, upper_limit)\n",
        "    print(alert_message)\n",
        "\n",
        "    # Display a goodbye message\n",
        "    display_goodbye_message()\n",
        "\n",
        "# Calling the function to start monitoring the temperature\n",
        "monitor_temperature()\n"
      ]
    }
  ]
}